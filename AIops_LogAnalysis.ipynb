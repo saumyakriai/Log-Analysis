{
  "nbformat": 4,
  "nbformat_minor": 0,
  "metadata": {
    "colab": {
      "provenance": []
    },
    "kernelspec": {
      "name": "python3",
      "display_name": "Python 3"
    },
    "language_info": {
      "name": "python"
    }
  },
  "cells": [
    {
      "cell_type": "code",
      "source": [
        "import pandas as pd\n",
        "import numpy as np\n",
        "from sklearn.ensemble import IsolationForest"
      ],
      "metadata": {
        "id": "-d6LMN3DMvbN"
      },
      "execution_count": null,
      "outputs": []
    },
    {
      "cell_type": "code",
      "execution_count": null,
      "metadata": {
        "id": "7lLeMwTpMbtC"
      },
      "outputs": [],
      "source": [
        "\n",
        "# Read log file\n",
        "log_file_path = \"/content/system_logs.txt\"  # Update with your file path if needed\n",
        "with open(log_file_path, \"r\") as file:\n",
        "    logs = file.readlines()\n",
        "\n",
        "# Parse logs into a structured DataFrame\n",
        "data = []\n",
        "for log in logs:\n",
        "    parts = log.strip().split(\" \", 3)  # Ensure the message part is captured fully\n",
        "    if len(parts) < 4:\n",
        "        continue  # Skip malformed lines\n",
        "    timestamp = parts[0] + \" \" + parts[1]\n",
        "    level = parts[2]\n",
        "    message = parts[3]\n",
        "    data.append([timestamp, level, message])\n",
        "\n",
        "df = pd.DataFrame(data, columns=[\"timestamp\", \"level\", \"message\"])\n",
        "\n",
        "# Convert timestamp to datetime format for sorting\n",
        "df[\"timestamp\"] = pd.to_datetime(df[\"timestamp\"])\n",
        "\n",
        "# Assign numeric scores to log levels\n",
        "level_mapping = {\"INFO\": 1, \"WARNING\": 2, \"ERROR\": 3, \"CRITICAL\": 4}\n",
        "df[\"level_score\"] = df[\"level\"].map(level_mapping)\n",
        "\n",
        "# Add message length as a new feature\n",
        "df[\"message_length\"] = df[\"message\"].apply(len)\n",
        "\n"
      ]
    },
    {
      "cell_type": "code",
      "source": [
        "# AI Model for Anomaly Detection (Isolation Forest)\n",
        "model = IsolationForest(contamination=0.1, random_state=42)  # Lower contamination for better accuracy\n",
        "df[\"anomaly\"] = model.fit_predict(df[[\"level_score\", \"message_length\"]])\n",
        "\n",
        "# Mark anomalies in a readable format\n",
        "df[\"is_anomaly\"] = df[\"anomaly\"].apply(lambda x: \"❌ Anomaly\" if x == -1 else \"✅ Normal\")\n",
        "\n",
        "# Print only detected anomalies\n",
        "anomalies = df[df[\"is_anomaly\"] == \"❌ Anomaly\"]\n",
        "print(\"\\n🔍 **Detected Anomalies:**\\n\", anomalies)\n",
        "\n"
      ],
      "metadata": {
        "colab": {
          "base_uri": "https://localhost:8080/"
        },
        "id": "EWFjhvrIM137",
        "outputId": "ea7b5d11-c72a-4463-ee01-11fbfa2eadae"
      },
      "execution_count": null,
      "outputs": [
        {
          "output_type": "stream",
          "name": "stdout",
          "text": [
            "\n",
            "🔍 **Detected Anomalies:**\n",
            "               timestamp     level  \\\n",
            "19  2025-03-27 10:00:38   WARNING   \n",
            "21  2025-03-27 10:01:45  CRITICAL   \n",
            "23  2025-03-27 10:01:09  CRITICAL   \n",
            "24  2025-03-27 10:02:00   WARNING   \n",
            "26  2025-03-27 10:01:44     ERROR   \n",
            "..                  ...       ...   \n",
            "887 2025-03-27 10:14:47   WARNING   \n",
            "941 2025-03-27 11:02:44   WARNING   \n",
            "942 2025-03-27 10:47:06   WARNING   \n",
            "955 2025-03-27 10:47:45  CRITICAL   \n",
            "997 2025-03-27 11:06:28  CRITICAL   \n",
            "\n",
            "                                            message  level_score  \\\n",
            "19                                   User logged in            2   \n",
            "21                            User changed password            4   \n",
            "23             Transaction rollback due to deadlock            4   \n",
            "24        Slow query detected: SELECT * FROM orders            2   \n",
            "26                                 CPU usage at 95%            3   \n",
            "..                                              ...          ...   \n",
            "887       Slow query detected: SELECT * FROM orders            2   \n",
            "941      Unauthorized access attempt to admin panel            2   \n",
            "942  Multiple failed login attempts, account locked            2   \n",
            "955                            User session expired            4   \n",
            "997                                CPU usage at 95%            4   \n",
            "\n",
            "     message_length  anomaly is_anomaly  \n",
            "19               14       -1  ❌ Anomaly  \n",
            "21               21       -1  ❌ Anomaly  \n",
            "23               36       -1  ❌ Anomaly  \n",
            "24               41       -1  ❌ Anomaly  \n",
            "26               16       -1  ❌ Anomaly  \n",
            "..              ...      ...        ...  \n",
            "887              41       -1  ❌ Anomaly  \n",
            "941              42       -1  ❌ Anomaly  \n",
            "942              46       -1  ❌ Anomaly  \n",
            "955              20       -1  ❌ Anomaly  \n",
            "997              16       -1  ❌ Anomaly  \n",
            "\n",
            "[85 rows x 7 columns]\n"
          ]
        }
      ]
    }
  ]
}